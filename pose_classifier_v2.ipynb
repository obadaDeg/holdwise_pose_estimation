{
 "cells": [
  {
   "cell_type": "code",
   "execution_count": 5,
   "metadata": {},
   "outputs": [
    {
     "name": "stdout",
     "output_type": "stream",
     "text": [
      "WARNING:tensorflow:From c:\\Users\\obada\\Desktop\\HoldWise Dataset\\myenv\\lib\\site-packages\\keras\\src\\losses.py:2976: The name tf.losses.sparse_softmax_cross_entropy is deprecated. Please use tf.compat.v1.losses.sparse_softmax_cross_entropy instead.\n",
      "\n"
     ]
    }
   ],
   "source": [
    "import os\n",
    "import numpy as np\n",
    "import cv2\n",
    "import mediapipe as mp\n",
    "import tensorflow as tf\n",
    "# from tensorflow import keras\n",
    "import keras\n",
    "from sklearn.preprocessing import LabelEncoder\n",
    "from sklearn.model_selection import train_test_split"
   ]
  },
  {
   "cell_type": "code",
   "execution_count": 6,
   "metadata": {},
   "outputs": [],
   "source": [
    "mp_pose = mp.solutions.pose\n",
    "pose = mp_pose.Pose(static_image_mode=True, min_detection_confidence=0.5)"
   ]
  },
  {
   "cell_type": "code",
   "execution_count": 7,
   "metadata": {},
   "outputs": [
    {
     "name": "stdout",
     "output_type": "stream",
     "text": [
      "Dataset Path: c:\\Users\\obada\\Desktop\\HoldWise Dataset\\organized_data\n"
     ]
    }
   ],
   "source": [
    "DATASET_PATH = os.path.abspath(\"organized_data\")  # Ensure absolute path\n",
    "print(\"Dataset Path:\", DATASET_PATH)\n",
    "\n",
    "train_path = os.path.join(DATASET_PATH, \"train\")\n",
    "test_path = os.path.join(DATASET_PATH, \"test\")"
   ]
  },
  {
   "cell_type": "code",
   "execution_count": 8,
   "metadata": {},
   "outputs": [],
   "source": [
    "def extract_keypoints(image_path):\n",
    "    image = cv2.imread(image_path)\n",
    "    image_rgb = cv2.cvtColor(image, cv2.COLOR_BGR2RGB)\n",
    "    results = pose.process(image_rgb)\n",
    "    \n",
    "    if results.pose_landmarks:\n",
    "        keypoints = []\n",
    "        for landmark in results.pose_landmarks.landmark:\n",
    "            keypoints.append(landmark.x)\n",
    "            keypoints.append(landmark.y)\n",
    "            keypoints.append(landmark.z)\n",
    "        return np.array(keypoints)\n",
    "    else:\n",
    "        return None  # If no pose is detected"
   ]
  },
  {
   "cell_type": "code",
   "execution_count": 9,
   "metadata": {},
   "outputs": [],
   "source": [
    "def load_dataset(dataset_path):\n",
    "    data, labels = [], []\n",
    "    class_map = {\"good\": 0, \"bad\": 1, \"cant_determine\": 2}\n",
    "    \n",
    "    for class_name, class_label in class_map.items():\n",
    "        class_dir = os.path.join(dataset_path, class_name)\n",
    "        \n",
    "        if not os.path.exists(class_dir):\n",
    "            print(f\"Warning: {class_dir} does not exist. Skipping.\")\n",
    "            continue\n",
    "        \n",
    "        for file in os.listdir(class_dir):\n",
    "            file_path = os.path.join(class_dir, file)\n",
    "            keypoints = extract_keypoints(file_path)\n",
    "            if keypoints is not None:\n",
    "                data.append(keypoints)\n",
    "                labels.append(class_label)\n",
    "    \n",
    "    return np.array(data), np.array(labels)\n"
   ]
  },
  {
   "cell_type": "code",
   "execution_count": 10,
   "metadata": {},
   "outputs": [],
   "source": [
    "X_train, y_train = load_dataset(train_path)\n",
    "X_test, y_test = load_dataset(test_path)\n",
    "\n",
    "valiadation_split = 0.2\n",
    "\n",
    "X_train, X_val, y_train, y_val = train_test_split(X_train, y_train, test_size=valiadation_split, random_state=42)\n"
   ]
  },
  {
   "cell_type": "code",
   "execution_count": 11,
   "metadata": {},
   "outputs": [
    {
     "data": {
      "text/plain": [
       "((35322, 99), (35322,), (11038, 99), (11038,))"
      ]
     },
     "execution_count": 11,
     "metadata": {},
     "output_type": "execute_result"
    }
   ],
   "source": [
    "X_train.shape, y_train.shape, X_test.shape, y_test.shape"
   ]
  },
  {
   "cell_type": "code",
   "execution_count": 12,
   "metadata": {},
   "outputs": [],
   "source": [
    "X_train = np.nan_to_num(X_train)  # Replace NaN with 0\n",
    "X_test = np.nan_to_num(X_test)"
   ]
  },
  {
   "cell_type": "code",
   "execution_count": 13,
   "metadata": {},
   "outputs": [],
   "source": [
    "X_train = X_train / np.linalg.norm(X_train, axis=1, keepdims=True)\n",
    "X_test = X_test / np.linalg.norm(X_test, axis=1, keepdims=True)"
   ]
  },
  {
   "cell_type": "code",
   "execution_count": 14,
   "metadata": {},
   "outputs": [
    {
     "name": "stdout",
     "output_type": "stream",
     "text": [
      "WARNING:tensorflow:From c:\\Users\\obada\\Desktop\\HoldWise Dataset\\myenv\\lib\\site-packages\\keras\\src\\backend.py:873: The name tf.get_default_graph is deprecated. Please use tf.compat.v1.get_default_graph instead.\n",
      "\n"
     ]
    }
   ],
   "source": [
    "model = keras.Sequential([\n",
    "    keras.layers.Dense(128, activation='relu', input_shape=(X_train.shape[1],)),\n",
    "    keras.layers.Dropout(0.3),\n",
    "    keras.layers.Dense(64, activation='relu'),\n",
    "    keras.layers.Dense(3, activation='softmax')  # 3 classes\n",
    "])"
   ]
  },
  {
   "cell_type": "code",
   "execution_count": 15,
   "metadata": {},
   "outputs": [],
   "source": [
    "optimizer = keras.optimizers.Adam(learning_rate=0.001)\n",
    "model.compile(optimizer=optimizer, loss='sparse_categorical_crossentropy', metrics=['accuracy'])"
   ]
  },
  {
   "cell_type": "code",
   "execution_count": 16,
   "metadata": {},
   "outputs": [
    {
     "name": "stdout",
     "output_type": "stream",
     "text": [
      "Epoch 1/50\n",
      "WARNING:tensorflow:From c:\\Users\\obada\\Desktop\\HoldWise Dataset\\myenv\\lib\\site-packages\\keras\\src\\utils\\tf_utils.py:492: The name tf.ragged.RaggedTensorValue is deprecated. Please use tf.compat.v1.ragged.RaggedTensorValue instead.\n",
      "\n",
      "WARNING:tensorflow:From c:\\Users\\obada\\Desktop\\HoldWise Dataset\\myenv\\lib\\site-packages\\keras\\src\\engine\\base_layer_utils.py:384: The name tf.executing_eagerly_outside_functions is deprecated. Please use tf.compat.v1.executing_eagerly_outside_functions instead.\n",
      "\n",
      "2208/2208 [==============================] - 4s 1ms/step - loss: 0.5935 - accuracy: 0.7346 - val_loss: 3.1117 - val_accuracy: 0.8153\n",
      "Epoch 2/50\n",
      "2208/2208 [==============================] - 3s 1ms/step - loss: 0.4621 - accuracy: 0.8104 - val_loss: 4.8798 - val_accuracy: 0.8113\n",
      "Epoch 3/50\n",
      "2208/2208 [==============================] - 3s 1ms/step - loss: 0.4084 - accuracy: 0.8325 - val_loss: 3.4744 - val_accuracy: 0.8475\n",
      "Epoch 4/50\n",
      "2208/2208 [==============================] - 3s 1ms/step - loss: 0.3738 - accuracy: 0.8478 - val_loss: 3.8969 - val_accuracy: 0.8520\n",
      "Epoch 5/50\n",
      "2208/2208 [==============================] - 2s 1ms/step - loss: 0.3519 - accuracy: 0.8580 - val_loss: 3.9613 - val_accuracy: 0.8262\n",
      "Epoch 6/50\n",
      "2208/2208 [==============================] - 2s 1ms/step - loss: 0.3275 - accuracy: 0.8664 - val_loss: 3.3433 - val_accuracy: 0.8596\n",
      "Epoch 7/50\n",
      "2208/2208 [==============================] - 2s 1ms/step - loss: 0.3132 - accuracy: 0.8723 - val_loss: 4.1588 - val_accuracy: 0.8426\n",
      "Epoch 8/50\n",
      "2208/2208 [==============================] - 2s 1ms/step - loss: 0.3038 - accuracy: 0.8783 - val_loss: 3.0975 - val_accuracy: 0.8680\n",
      "Epoch 9/50\n",
      "2208/2208 [==============================] - 2s 1ms/step - loss: 0.2910 - accuracy: 0.8840 - val_loss: 3.7912 - val_accuracy: 0.8245\n",
      "Epoch 10/50\n",
      "2208/2208 [==============================] - 2s 1ms/step - loss: 0.2824 - accuracy: 0.8890 - val_loss: 3.9974 - val_accuracy: 0.8326\n",
      "Epoch 11/50\n",
      "2208/2208 [==============================] - 2s 1ms/step - loss: 0.2761 - accuracy: 0.8903 - val_loss: 2.9793 - val_accuracy: 0.8552\n",
      "Epoch 12/50\n",
      "2208/2208 [==============================] - 2s 1ms/step - loss: 0.2737 - accuracy: 0.8926 - val_loss: 4.2082 - val_accuracy: 0.8050\n",
      "Epoch 13/50\n",
      "2208/2208 [==============================] - 2s 1ms/step - loss: 0.2614 - accuracy: 0.8964 - val_loss: 3.8263 - val_accuracy: 0.8304\n",
      "Epoch 14/50\n",
      "2208/2208 [==============================] - 2s 1ms/step - loss: 0.2548 - accuracy: 0.9003 - val_loss: 3.2554 - val_accuracy: 0.8523\n",
      "Epoch 15/50\n",
      "2208/2208 [==============================] - 2s 1ms/step - loss: 0.2502 - accuracy: 0.9011 - val_loss: 4.2288 - val_accuracy: 0.7879\n",
      "Epoch 16/50\n",
      "2208/2208 [==============================] - 3s 1ms/step - loss: 0.2450 - accuracy: 0.9027 - val_loss: 3.4067 - val_accuracy: 0.8510\n",
      "Epoch 17/50\n",
      "2208/2208 [==============================] - 2s 1ms/step - loss: 0.2399 - accuracy: 0.9060 - val_loss: 3.2176 - val_accuracy: 0.8522\n",
      "Epoch 18/50\n",
      "2208/2208 [==============================] - 2s 1ms/step - loss: 0.2388 - accuracy: 0.9071 - val_loss: 4.0018 - val_accuracy: 0.8357\n",
      "Epoch 19/50\n",
      "2208/2208 [==============================] - 3s 1ms/step - loss: 0.2360 - accuracy: 0.9075 - val_loss: 2.8704 - val_accuracy: 0.8784\n",
      "Epoch 20/50\n",
      "2208/2208 [==============================] - 3s 1ms/step - loss: 0.2295 - accuracy: 0.9098 - val_loss: 2.7285 - val_accuracy: 0.8626\n",
      "Epoch 21/50\n",
      "2208/2208 [==============================] - 2s 1ms/step - loss: 0.2272 - accuracy: 0.9104 - val_loss: 3.4698 - val_accuracy: 0.8505\n",
      "Epoch 22/50\n",
      "2208/2208 [==============================] - 2s 1ms/step - loss: 0.2219 - accuracy: 0.9135 - val_loss: 3.6400 - val_accuracy: 0.8104\n",
      "Epoch 23/50\n",
      "2208/2208 [==============================] - 2s 1ms/step - loss: 0.2225 - accuracy: 0.9112 - val_loss: 2.4289 - val_accuracy: 0.8718\n",
      "Epoch 24/50\n",
      "2208/2208 [==============================] - 3s 1ms/step - loss: 0.2190 - accuracy: 0.9144 - val_loss: 3.3739 - val_accuracy: 0.8203\n",
      "Epoch 25/50\n",
      "2208/2208 [==============================] - 3s 1ms/step - loss: 0.2140 - accuracy: 0.9164 - val_loss: 3.1716 - val_accuracy: 0.8457\n",
      "Epoch 26/50\n",
      "2208/2208 [==============================] - 2s 1ms/step - loss: 0.2146 - accuracy: 0.9172 - val_loss: 2.7993 - val_accuracy: 0.8390\n",
      "Epoch 27/50\n",
      "2208/2208 [==============================] - 2s 1ms/step - loss: 0.2093 - accuracy: 0.9177 - val_loss: 4.0222 - val_accuracy: 0.8189\n",
      "Epoch 28/50\n",
      "2208/2208 [==============================] - 3s 1ms/step - loss: 0.2088 - accuracy: 0.9195 - val_loss: 2.4382 - val_accuracy: 0.8669\n",
      "Epoch 29/50\n",
      "2208/2208 [==============================] - 2s 1ms/step - loss: 0.2059 - accuracy: 0.9200 - val_loss: 2.7453 - val_accuracy: 0.8589\n",
      "Epoch 30/50\n",
      "2208/2208 [==============================] - 2s 1ms/step - loss: 0.2032 - accuracy: 0.9195 - val_loss: 3.1465 - val_accuracy: 0.8479\n",
      "Epoch 31/50\n",
      "2208/2208 [==============================] - 2s 1ms/step - loss: 0.2055 - accuracy: 0.9190 - val_loss: 2.3970 - val_accuracy: 0.8836\n",
      "Epoch 32/50\n",
      "2208/2208 [==============================] - 2s 1ms/step - loss: 0.2033 - accuracy: 0.9212 - val_loss: 3.0945 - val_accuracy: 0.8423\n",
      "Epoch 33/50\n",
      "2208/2208 [==============================] - 3s 1ms/step - loss: 0.1990 - accuracy: 0.9225 - val_loss: 2.3410 - val_accuracy: 0.8750\n",
      "Epoch 34/50\n",
      "2208/2208 [==============================] - 3s 1ms/step - loss: 0.1981 - accuracy: 0.9232 - val_loss: 3.2565 - val_accuracy: 0.8258\n",
      "Epoch 35/50\n",
      "2208/2208 [==============================] - 3s 1ms/step - loss: 0.1957 - accuracy: 0.9244 - val_loss: 3.7448 - val_accuracy: 0.8046\n",
      "Epoch 36/50\n",
      "2208/2208 [==============================] - 3s 1ms/step - loss: 0.1932 - accuracy: 0.9240 - val_loss: 2.9379 - val_accuracy: 0.8705\n",
      "Epoch 37/50\n",
      "2208/2208 [==============================] - 3s 1ms/step - loss: 0.1926 - accuracy: 0.9238 - val_loss: 2.8052 - val_accuracy: 0.8640\n",
      "Epoch 38/50\n",
      "2208/2208 [==============================] - 3s 1ms/step - loss: 0.1913 - accuracy: 0.9251 - val_loss: 2.9052 - val_accuracy: 0.8544\n",
      "Epoch 39/50\n",
      "2208/2208 [==============================] - 3s 1ms/step - loss: 0.1901 - accuracy: 0.9246 - val_loss: 3.3075 - val_accuracy: 0.8501\n",
      "Epoch 40/50\n",
      "2208/2208 [==============================] - 3s 1ms/step - loss: 0.1862 - accuracy: 0.9276 - val_loss: 2.8944 - val_accuracy: 0.8777\n",
      "Epoch 41/50\n",
      "2208/2208 [==============================] - 3s 1ms/step - loss: 0.1888 - accuracy: 0.9273 - val_loss: 3.1431 - val_accuracy: 0.8614\n",
      "Epoch 42/50\n",
      "2208/2208 [==============================] - 3s 1ms/step - loss: 0.1881 - accuracy: 0.9260 - val_loss: 3.1081 - val_accuracy: 0.8215\n",
      "Epoch 43/50\n",
      "2208/2208 [==============================] - 3s 1ms/step - loss: 0.1816 - accuracy: 0.9290 - val_loss: 3.8234 - val_accuracy: 0.8333\n",
      "Epoch 44/50\n",
      "2208/2208 [==============================] - 3s 1ms/step - loss: 0.1802 - accuracy: 0.9301 - val_loss: 2.8684 - val_accuracy: 0.8525\n",
      "Epoch 45/50\n",
      "2208/2208 [==============================] - 3s 1ms/step - loss: 0.1822 - accuracy: 0.9290 - val_loss: 3.0644 - val_accuracy: 0.8332\n",
      "Epoch 46/50\n",
      "2208/2208 [==============================] - 3s 1ms/step - loss: 0.1782 - accuracy: 0.9300 - val_loss: 3.6224 - val_accuracy: 0.8504\n",
      "Epoch 47/50\n",
      "2208/2208 [==============================] - 3s 1ms/step - loss: 0.1782 - accuracy: 0.9300 - val_loss: 4.0171 - val_accuracy: 0.7820\n",
      "Epoch 48/50\n",
      "2208/2208 [==============================] - 3s 1ms/step - loss: 0.1772 - accuracy: 0.9309 - val_loss: 3.2509 - val_accuracy: 0.8707\n",
      "Epoch 49/50\n",
      "2208/2208 [==============================] - 3s 1ms/step - loss: 0.1795 - accuracy: 0.9303 - val_loss: 3.9020 - val_accuracy: 0.8457\n",
      "Epoch 50/50\n",
      "2208/2208 [==============================] - 2s 1ms/step - loss: 0.1750 - accuracy: 0.9315 - val_loss: 3.0468 - val_accuracy: 0.8630\n"
     ]
    },
    {
     "data": {
      "text/plain": [
       "<keras.src.callbacks.History at 0x131c1502890>"
      ]
     },
     "execution_count": 16,
     "metadata": {},
     "output_type": "execute_result"
    }
   ],
   "source": [
    "model.fit(X_train, y_train, validation_data=(X_val, y_val), epochs=50, batch_size=16)"
   ]
  },
  {
   "cell_type": "code",
   "execution_count": 20,
   "metadata": {},
   "outputs": [
    {
     "name": "stdout",
     "output_type": "stream",
     "text": [
      "345/345 [==============================] - 0s 845us/step - loss: 0.1416 - accuracy: 0.9473\n"
     ]
    }
   ],
   "source": [
    "# model.evaluate(X_test, y_test)\n",
    "loss, accuracy = model.evaluate(X_test, y_test)"
   ]
  },
  {
   "cell_type": "code",
   "execution_count": 21,
   "metadata": {},
   "outputs": [
    {
     "data": {
      "text/plain": [
       "(0.14158661663532257, 0.9472730755805969)"
      ]
     },
     "execution_count": 21,
     "metadata": {},
     "output_type": "execute_result"
    }
   ],
   "source": [
    "loss, accuracy"
   ]
  },
  {
   "cell_type": "code",
   "execution_count": 23,
   "metadata": {},
   "outputs": [
    {
     "name": "stderr",
     "output_type": "stream",
     "text": [
      "c:\\Users\\obada\\Desktop\\HoldWise Dataset\\myenv\\lib\\site-packages\\keras\\src\\engine\\training.py:3103: UserWarning: You are saving your model as an HDF5 file via `model.save()`. This file format is considered legacy. We recommend using instead the native Keras format, e.g. `model.save('my_model.keras')`.\n",
      "  saving_api.save_model(\n"
     ]
    },
    {
     "name": "stdout",
     "output_type": "stream",
     "text": [
      "INFO:tensorflow:Assets written to: C:\\Users\\obada\\AppData\\Local\\Temp\\tmp_9gcqszo\\assets\n"
     ]
    },
    {
     "name": "stderr",
     "output_type": "stream",
     "text": [
      "INFO:tensorflow:Assets written to: C:\\Users\\obada\\AppData\\Local\\Temp\\tmp_9gcqszo\\assets\n"
     ]
    },
    {
     "name": "stdout",
     "output_type": "stream",
     "text": [
      "Model successfully converted to TensorFlow Lite and saved.\n"
     ]
    }
   ],
   "source": [
    "# Save the Keras model\n",
    "model.save(\"pose_classification_model.h5\")\n",
    "\n",
    "# Convert the model to TensorFlow Lite format\n",
    "converter = tf.lite.TFLiteConverter.from_keras_model(model)\n",
    "tflite_model = converter.convert()\n",
    "\n",
    "# Save the TFLite model\n",
    "with open(\"pose_classification_model.tflite\", \"wb\") as f:\n",
    "    f.write(tflite_model)\n",
    "\n",
    "print(\"Model successfully converted to TensorFlow Lite and saved.\")"
   ]
  },
  {
   "cell_type": "code",
   "execution_count": 22,
   "metadata": {},
   "outputs": [
    {
     "name": "stderr",
     "output_type": "stream",
     "text": [
      "C:\\Users\\obada\\AppData\\Local\\Programs\\Python\\Python313\\Scripts\\jupyter-nbconvert.EXE\\__main__.py:4: DeprecationWarning: Parsing dates involving a day of month without a year specified is ambiguious\n",
      "and fails to parse leap day. The default behavior will change in Python 3.15\n",
      "to either always raise an exception or to use a different default year (TBD).\n",
      "To avoid trouble, add a specific year to the input & format.\n",
      "See https://github.com/python/cpython/issues/70647.\n",
      "[NbConvertApp] Converting notebook C:\\Users\\obada\\Desktop\\HoldWise Dataset\\pose_classifier_v2.ipynb to script\n",
      "[NbConvertApp] Writing 3544 bytes to C:\\Users\\obada\\Desktop\\HoldWise Dataset\\pose_classifier_v2.py\n",
      "C:\\Users\\obada\\AppData\\Local\\Programs\\Python\\Python313\\Scripts\\jupyter-nbconvert.EXE\\__main__.py:4: DeprecationWarning: Parsing dates involving a day of month without a year specified is ambiguious\n",
      "and fails to parse leap day. The default behavior will change in Python 3.15\n",
      "to either always raise an exception or to use a different default year (TBD).\n",
      "To avoid trouble, add a specific year to the input & format.\n",
      "See https://github.com/python/cpython/issues/70647.\n",
      "[NbConvertApp] Converting notebook C:\\Users\\obada\\Desktop\\HoldWise Dataset\\pose_classifier_v2.ipynb to html\n",
      "[NbConvertApp] Writing 307407 bytes to C:\\Users\\obada\\Desktop\\HoldWise Dataset\\pose_classifier_v2.html\n"
     ]
    }
   ],
   "source": [
    "!jupyter nbconvert --to script \"C:\\Users\\obada\\Desktop\\HoldWise Dataset\\pose_classifier_v2.ipynb\"\n",
    "!jupyter nbconvert --to html \"C:\\Users\\obada\\Desktop\\HoldWise Dataset\\pose_classifier_v2.ipynb\""
   ]
  }
 ],
 "metadata": {
  "kernelspec": {
   "display_name": "myenv",
   "language": "python",
   "name": "python3"
  },
  "language_info": {
   "codemirror_mode": {
    "name": "ipython",
    "version": 3
   },
   "file_extension": ".py",
   "mimetype": "text/x-python",
   "name": "python",
   "nbconvert_exporter": "python",
   "pygments_lexer": "ipython3",
   "version": "3.10.0"
  }
 },
 "nbformat": 4,
 "nbformat_minor": 2
}
